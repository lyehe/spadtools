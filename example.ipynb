{
 "cells": [
  {
   "cell_type": "markdown",
   "metadata": {},
   "source": [
    "### Example Usage"
   ]
  },
  {
   "cell_type": "code",
   "execution_count": 1,
   "metadata": {},
   "outputs": [
    {
     "ename": "ModuleNotFoundError",
     "evalue": "No module named 'spadtools'",
     "output_type": "error",
     "traceback": [
      "\u001b[1;31m---------------------------------------------------------------------------\u001b[0m",
      "\u001b[1;31mModuleNotFoundError\u001b[0m                       Traceback (most recent call last)",
      "Cell \u001b[1;32mIn[1], line 1\u001b[0m\n\u001b[1;32m----> 1\u001b[0m \u001b[38;5;28;01mfrom\u001b[39;00m \u001b[38;5;21;01mspadtools\u001b[39;00m \u001b[38;5;28;01mimport\u001b[39;00m SPADFile, SPADData, GenerateTestData, SPADHotpixelTool\n\u001b[0;32m      2\u001b[0m \u001b[38;5;28;01mfrom\u001b[39;00m \u001b[38;5;21;01mcopy\u001b[39;00m \u001b[38;5;28;01mimport\u001b[39;00m deepcopy\n\u001b[0;32m      3\u001b[0m \u001b[38;5;28;01mfrom\u001b[39;00m \u001b[38;5;21;01mtyping\u001b[39;00m \u001b[38;5;28;01mimport\u001b[39;00m cast\n",
      "\u001b[1;31mModuleNotFoundError\u001b[0m: No module named 'spadtools'"
     ]
    }
   ],
   "source": [
    "from spadtools import SPADFile, SPADData, GenerateTestData, SPADHotpixelTool\n",
    "from copy import deepcopy\n",
    "from typing import cast\n",
    "\n",
    "\n",
    "test_image = GenerateTestData()\n",
    "hotpixel = SPADHotpixelTool(test_image.generate())\n",
    "hotpixel.inspect(threshold=1.5)\n",
    "# This will retun an warning as the number of frame is small"
   ]
  },
  {
   "cell_type": "code",
   "execution_count": null,
   "metadata": {},
   "outputs": [],
   "source": [
    "test_image.z_size = 400\n",
    "hotpixel = SPADHotpixelTool(test_image.generate())\n",
    "hotpixel.inspect(threshold=1.5)  # no more errors"
   ]
  },
  {
   "cell_type": "markdown",
   "metadata": {},
   "source": [
    "### Test dummy data"
   ]
  },
  {
   "cell_type": "code",
   "execution_count": null,
   "metadata": {},
   "outputs": [],
   "source": [
    "# This can take a while\n",
    "test_image.z_size = 100\n",
    "test_data_path = test_image.create()\n",
    "test_dataset = SPADFile(test_data_path, load_data=True)"
   ]
  },
  {
   "cell_type": "code",
   "execution_count": null,
   "metadata": {},
   "outputs": [],
   "source": [
    "preview_image = test_dataset[0].preview(plot=True)"
   ]
  },
  {
   "cell_type": "code",
   "execution_count": null,
   "metadata": {},
   "outputs": [],
   "source": [
    "# Clean up the dummy data\n",
    "test_image.remove() "
   ]
  },
  {
   "cell_type": "code",
   "execution_count": null,
   "metadata": {},
   "outputs": [],
   "source": [
    "# Concatenate the first 10 frames\n",
    "data = cast(SPADData, deepcopy(test_dataset[0]))\n",
    "for f in test_dataset[1:10]:\n",
    "    data += cast(SPADData, f)\n",
    "print(test_dataset[0].data.shape)\n",
    "print(data.data.shape)"
   ]
  }
 ],
 "metadata": {
  "kernelspec": {
   "display_name": "gap3d",
   "language": "python",
   "name": "python3"
  },
  "language_info": {
   "codemirror_mode": {
    "name": "ipython",
    "version": 3
   },
   "file_extension": ".py",
   "mimetype": "text/x-python",
   "name": "python",
   "nbconvert_exporter": "python",
   "pygments_lexer": "ipython3",
   "version": "3.10.15"
  }
 },
 "nbformat": 4,
 "nbformat_minor": 2
}
