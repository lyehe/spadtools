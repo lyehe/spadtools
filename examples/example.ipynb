{
 "cells": [
  {
   "cell_type": "markdown",
   "metadata": {},
   "source": [
    "### Example Usage"
   ]
  },
  {
   "cell_type": "code",
   "execution_count": null,
   "metadata": {},
   "outputs": [],
   "source": [
    "from spadtools import SPADFile, SPADData, GenerateTestData, SPADHotpixelTool\n",
    "from copy import deepcopy\n",
    "from typing import cast\n",
    "\n",
    "\n",
    "test_image = GenerateTestData()\n",
    "hotpixel = SPADHotpixelTool(test_image.generate())\n",
    "hotpixel.inspect(threshold=1.5)\n",
    "# This will retun an warning as the number of frame is small"
   ]
  },
  {
   "cell_type": "code",
   "execution_count": null,
   "metadata": {},
   "outputs": [],
   "source": [
    "test_image.z_size = 400\n",
    "hotpixel = SPADHotpixelTool(test_image.generate())\n",
    "hotpixel.inspect(threshold=1.5)  # no more errors"
   ]
  },
  {
   "cell_type": "markdown",
   "metadata": {},
   "source": [
    "### Test dummy data"
   ]
  },
  {
   "cell_type": "code",
   "execution_count": null,
   "metadata": {},
   "outputs": [],
   "source": [
    "# This can take a while\n",
    "test_image.z_size = 100\n",
    "test_data_path = test_image.create()\n",
    "test_dataset = SPADFile(test_data_path, load_data=True)"
   ]
  },
  {
   "cell_type": "code",
   "execution_count": null,
   "metadata": {},
   "outputs": [],
   "source": [
    "preview_image = test_dataset[0].preview(plot=True)"
   ]
  },
  {
   "cell_type": "code",
   "execution_count": null,
   "metadata": {},
   "outputs": [],
   "source": [
    "# Clean up the dummy data\n",
    "test_image.remove() "
   ]
  },
  {
   "cell_type": "code",
   "execution_count": null,
   "metadata": {},
   "outputs": [],
   "source": [
    "# Concatenate the first 10 frames\n",
    "data = cast(SPADData, deepcopy(test_dataset[0]))\n",
    "for f in test_dataset[1:10]:\n",
    "    data += cast(SPADData, f)\n",
    "print(test_dataset[0].data.shape)\n",
    "print(data.data.shape)"
   ]
  }
 ],
 "metadata": {
  "kernelspec": {
   "display_name": "gap3d",
   "language": "python",
   "name": "python3"
  },
  "language_info": {
   "codemirror_mode": {
    "name": "ipython",
    "version": 3
   },
   "file_extension": ".py",
   "mimetype": "text/x-python",
   "name": "python",
   "nbconvert_exporter": "python",
   "pygments_lexer": "ipython3",
   "version": "3.10.13"
  }
 },
 "nbformat": 4,
 "nbformat_minor": 2
}
